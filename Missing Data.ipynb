{
 "cells": [
  {
   "cell_type": "code",
   "execution_count": 1,
   "id": "8802e45e-edb9-4196-a814-95c07bd984b0",
   "metadata": {},
   "outputs": [
    {
     "name": "stdout",
     "output_type": "stream",
     "text": [
      "Missing image numbers: [14, 22, 133, 181, 201, 202, 479, 535, 732]\n"
     ]
    }
   ],
   "source": [
    "import os\n",
    "\n",
    "# Directory containing the images\n",
    "directory = 'Camera2/front'\n",
    "\n",
    "# Range of expected image numbers\n",
    "start_num = 1\n",
    "end_num = 1100\n",
    "\n",
    "# Generate the set of expected filenames\n",
    "expected_filenames = {f\"{i}.jpeg\" for i in range(start_num, end_num + 1)}\n",
    "\n",
    "# Get the set of actual filenames in the directory\n",
    "actual_filenames = set(os.listdir(directory))\n",
    "\n",
    "# Find the missing filenames by subtracting sets\n",
    "missing_filenames = expected_filenames - actual_filenames\n",
    "\n",
    "# Convert the missing filenames back to integers and sort them\n",
    "missing_numbers = sorted(int(f.split('.')[0]) for f in missing_filenames)\n",
    "\n",
    "# Print the missing numbers\n",
    "print(\"Missing image numbers:\", missing_numbers)\n"
   ]
  },
  {
   "cell_type": "code",
   "execution_count": null,
   "id": "f5528ab7-f91d-44bc-beb9-b7b48dbdf696",
   "metadata": {},
   "outputs": [],
   "source": []
  }
 ],
 "metadata": {
  "kernelspec": {
   "display_name": "Python 3 (ipykernel)",
   "language": "python",
   "name": "python3"
  },
  "language_info": {
   "codemirror_mode": {
    "name": "ipython",
    "version": 3
   },
   "file_extension": ".py",
   "mimetype": "text/x-python",
   "name": "python",
   "nbconvert_exporter": "python",
   "pygments_lexer": "ipython3",
   "version": "3.11.7"
  }
 },
 "nbformat": 4,
 "nbformat_minor": 5
}
